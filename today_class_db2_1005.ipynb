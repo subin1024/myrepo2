{
 "cells": [
  {
   "cell_type": "code",
   "execution_count": 33,
   "metadata": {},
   "outputs": [],
   "source": [
    "import sqlite3"
   ]
  },
  {
   "cell_type": "code",
   "execution_count": 34,
   "metadata": {},
   "outputs": [
    {
     "data": {
      "text/plain": [
       "<sqlite3.Connection at 0x229414843f0>"
      ]
     },
     "execution_count": 34,
     "metadata": {},
     "output_type": "execute_result"
    }
   ],
   "source": [
    "conn = sqlite3.connect('student.db')\n",
    "conn"
   ]
  },
  {
   "cell_type": "code",
   "execution_count": 35,
   "metadata": {},
   "outputs": [],
   "source": [
    "sql = \"\"\"\n",
    " CREATE TABLE student\n",
    " ( \n",
    " name text,\n",
    " no integer,\n",
    " addr text,\n",
    " gender text\n",
    " )\n",
    "\"\"\"\n",
    "\n",
    "c = conn.cursor()\n",
    "c.execute(\"DROP TABLE IF EXISTS student\")\n",
    "c.execute(sql)\n",
    "c.close()"
   ]
  },
  {
   "cell_type": "code",
   "execution_count": 36,
   "metadata": {},
   "outputs": [],
   "source": [
    "sql = \"\"\"\n",
    "INSERT INTO student VALUES\n",
    " (?, ?, ?, ?)\n",
    "\"\"\"\n",
    "\n",
    "c = conn.cursor()\n",
    "c.execute(sql, (\"학생2\", 2, \"안양\", \"female\"))\n",
    "\n",
    "## 여러개 데이터 넣기\n",
    "data = [\n",
    "    ('학생3', 3, '경기도', 'female'),\n",
    "    ('학생4', 4, '춘천', 'female'),\n",
    "    ('학생5', 5, '대구', 'male')\n",
    "]\n",
    "\n",
    "c.executemany(sql, data)\n",
    "c.close()\n",
    "conn.commit()"
   ]
  },
  {
   "cell_type": "code",
   "execution_count": 37,
   "metadata": {},
   "outputs": [
    {
     "name": "stdout",
     "output_type": "stream",
     "text": [
      "('학생2', 2, '안양', 'female')\n"
     ]
    }
   ],
   "source": [
    "sql = 'select * from student'\n",
    "c = conn.cursor()\n",
    "c.execute(sql)\n",
    "\n",
    "# 하나의 데이터 확인\n",
    "print( c.fetchone() )"
   ]
  },
  {
   "cell_type": "code",
   "execution_count": 38,
   "metadata": {},
   "outputs": [
    {
     "name": "stdout",
     "output_type": "stream",
     "text": [
      "('학생3', 3, '경기도', 'female')\n",
      "('학생4', 4, '춘천', 'female')\n",
      "('학생5', 5, '대구', 'male')\n"
     ]
    }
   ],
   "source": [
    "for s in c.fetchmany(10):\n",
    "    print(s)"
   ]
  },
  {
   "cell_type": "code",
   "execution_count": 39,
   "metadata": {},
   "outputs": [
    {
     "name": "stdout",
     "output_type": "stream",
     "text": [
      "('학생2', 2, '안양', 'female')\n",
      "('학생3', 3, '경기도', 'female')\n",
      "('학생4', 4, '춘천', 'female')\n",
      "('학생5', 5, '대구', 'male')\n"
     ]
    }
   ],
   "source": [
    "sql = 'select * from student'\n",
    "c = conn.cursor()\n",
    "c.execute(sql)\n",
    "for s in c.fetchall():\n",
    "    print(s)"
   ]
  },
  {
   "cell_type": "code",
   "execution_count": 41,
   "metadata": {},
   "outputs": [],
   "source": [
    "sql = \"\"\"\n",
    " CREATE TABLE student1\n",
    " ( \n",
    " name text,\n",
    " no integer,\n",
    " addr text,\n",
    " gender text\n",
    " )\n",
    "\"\"\"\n",
    "\n",
    "c = conn.cursor()\n",
    "c.execute(\"DROP TABLE IF EXISTS student1\")\n",
    "c.execute(sql)\n",
    "c.close()"
   ]
  },
  {
   "cell_type": "code",
   "execution_count": 42,
   "metadata": {},
   "outputs": [],
   "source": [
    "sql = \"\"\"\n",
    "INSERT INTO student1 VALUES\n",
    " (?, ?, ?, ?)\n",
    "\"\"\"\n",
    "\n",
    "c = conn.cursor()\n",
    "c.execute(sql, (\"학생2\", 80, 70, 60))\n",
    "\n",
    "## 여러개 데이터 넣기\n",
    "data = [\n",
    "    ('학생3', 35, 75, 95),\n",
    "    ('학생4', 54, 95, 54),\n",
    "    ('학생5', 59, 65, 95),\n",
    "    ('학생6', 85, 82, 90),\n",
    "    ('학생7', 53, 95, 50),\n",
    "    ('학생8', 75, 50, 60),\n",
    "    ('학생9', 59, 65, 85),\n",
    "    ('학생10', 85, 55, 75)\n",
    "]\n",
    "\n",
    "c.executemany(sql, data)\n",
    "c.close()\n",
    "conn.commit()"
   ]
  },
  {
   "cell_type": "code",
   "execution_count": 43,
   "metadata": {},
   "outputs": [
    {
     "name": "stdout",
     "output_type": "stream",
     "text": [
      "('학생2', 80, '70', '60')\n"
     ]
    }
   ],
   "source": [
    "sql = 'select * from student1'\n",
    "c = conn.cursor()\n",
    "c.execute(sql)\n",
    "\n",
    "# 하나의 데이터 확인\n",
    "print( c.fetchone() )"
   ]
  },
  {
   "cell_type": "code",
   "execution_count": 44,
   "metadata": {},
   "outputs": [
    {
     "name": "stdout",
     "output_type": "stream",
     "text": [
      "('학생3', 35, '75', '95')\n",
      "('학생4', 54, '95', '54')\n",
      "('학생5', 59, '65', '95')\n",
      "('학생6', 85, '82', '90')\n",
      "('학생7', 53, '95', '50')\n",
      "('학생8', 75, '50', '60')\n",
      "('학생9', 59, '65', '85')\n",
      "('학생10', 85, '55', '75')\n"
     ]
    }
   ],
   "source": [
    "for s in c.fetchmany(10):\n",
    "    print(s)"
   ]
  },
  {
   "cell_type": "code",
   "execution_count": 45,
   "metadata": {},
   "outputs": [
    {
     "name": "stdout",
     "output_type": "stream",
     "text": [
      "('학생2', 80, '70', '60')\n",
      "('학생3', 35, '75', '95')\n",
      "('학생4', 54, '95', '54')\n",
      "('학생5', 59, '65', '95')\n",
      "('학생6', 85, '82', '90')\n",
      "('학생7', 53, '95', '50')\n",
      "('학생8', 75, '50', '60')\n",
      "('학생9', 59, '65', '85')\n",
      "('학생10', 85, '55', '75')\n"
     ]
    }
   ],
   "source": [
    "sql = 'select * from student1'\n",
    "c = conn.cursor()\n",
    "c.execute(sql)\n",
    "for s in c.fetchall():\n",
    "    print(s)"
   ]
  },
  {
   "cell_type": "code",
   "execution_count": null,
   "metadata": {},
   "outputs": [],
   "source": []
  }
 ],
 "metadata": {
  "kernelspec": {
   "display_name": "Python 3",
   "language": "python",
   "name": "python3"
  },
  "language_info": {
   "codemirror_mode": {
    "name": "ipython",
    "version": 3
   },
   "file_extension": ".py",
   "mimetype": "text/x-python",
   "name": "python",
   "nbconvert_exporter": "python",
   "pygments_lexer": "ipython3",
   "version": "3.8.3"
  }
 },
 "nbformat": 4,
 "nbformat_minor": 4
}
